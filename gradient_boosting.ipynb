{
 "cells": [
  {
   "cell_type": "code",
   "execution_count": 1,
   "metadata": {},
   "outputs": [],
   "source": [
    "import pandas as pd\n",
    "import math\n",
    "from sklearn.model_selection import train_test_split\n",
    "from sklearn.tree import DecisionTreeRegressor\n",
    "from sklearn.utils import shuffle\n",
    "import numpy as np\n",
    "import matplotlib.pyplot as plt"
   ]
  },
  {
   "cell_type": "markdown",
   "metadata": {},
   "source": [
    "### Data Set \n",
    "\n",
    "Data Set used for the experiment: Tic-Tac-Toe Endgame (Available at https://archive.ics.uci.edu/ml/datasets/Tic-Tac-Toe+Endgame)"
   ]
  },
  {
   "cell_type": "code",
   "execution_count": 2,
   "metadata": {},
   "outputs": [
    {
     "data": {
      "text/html": [
       "<div>\n",
       "<style scoped>\n",
       "    .dataframe tbody tr th:only-of-type {\n",
       "        vertical-align: middle;\n",
       "    }\n",
       "\n",
       "    .dataframe tbody tr th {\n",
       "        vertical-align: top;\n",
       "    }\n",
       "\n",
       "    .dataframe thead th {\n",
       "        text-align: right;\n",
       "    }\n",
       "</style>\n",
       "<table border=\"1\" class=\"dataframe\">\n",
       "  <thead>\n",
       "    <tr style=\"text-align: right;\">\n",
       "      <th></th>\n",
       "      <th>tl</th>\n",
       "      <th>tm</th>\n",
       "      <th>tr</th>\n",
       "      <th>ml</th>\n",
       "      <th>mm</th>\n",
       "      <th>mr</th>\n",
       "      <th>bl</th>\n",
       "      <th>bm</th>\n",
       "      <th>br</th>\n",
       "      <th>class</th>\n",
       "    </tr>\n",
       "  </thead>\n",
       "  <tbody>\n",
       "    <tr>\n",
       "      <th>0</th>\n",
       "      <td>x</td>\n",
       "      <td>x</td>\n",
       "      <td>x</td>\n",
       "      <td>x</td>\n",
       "      <td>o</td>\n",
       "      <td>o</td>\n",
       "      <td>o</td>\n",
       "      <td>x</td>\n",
       "      <td>o</td>\n",
       "      <td>positive</td>\n",
       "    </tr>\n",
       "    <tr>\n",
       "      <th>1</th>\n",
       "      <td>x</td>\n",
       "      <td>x</td>\n",
       "      <td>x</td>\n",
       "      <td>x</td>\n",
       "      <td>o</td>\n",
       "      <td>o</td>\n",
       "      <td>o</td>\n",
       "      <td>o</td>\n",
       "      <td>x</td>\n",
       "      <td>positive</td>\n",
       "    </tr>\n",
       "    <tr>\n",
       "      <th>2</th>\n",
       "      <td>x</td>\n",
       "      <td>x</td>\n",
       "      <td>x</td>\n",
       "      <td>x</td>\n",
       "      <td>o</td>\n",
       "      <td>o</td>\n",
       "      <td>o</td>\n",
       "      <td>b</td>\n",
       "      <td>b</td>\n",
       "      <td>positive</td>\n",
       "    </tr>\n",
       "    <tr>\n",
       "      <th>3</th>\n",
       "      <td>x</td>\n",
       "      <td>x</td>\n",
       "      <td>x</td>\n",
       "      <td>x</td>\n",
       "      <td>o</td>\n",
       "      <td>o</td>\n",
       "      <td>b</td>\n",
       "      <td>o</td>\n",
       "      <td>b</td>\n",
       "      <td>positive</td>\n",
       "    </tr>\n",
       "    <tr>\n",
       "      <th>4</th>\n",
       "      <td>x</td>\n",
       "      <td>x</td>\n",
       "      <td>x</td>\n",
       "      <td>x</td>\n",
       "      <td>o</td>\n",
       "      <td>o</td>\n",
       "      <td>b</td>\n",
       "      <td>b</td>\n",
       "      <td>o</td>\n",
       "      <td>positive</td>\n",
       "    </tr>\n",
       "  </tbody>\n",
       "</table>\n",
       "</div>"
      ],
      "text/plain": [
       "  tl tm tr ml mm mr bl bm br     class\n",
       "0  x  x  x  x  o  o  o  x  o  positive\n",
       "1  x  x  x  x  o  o  o  o  x  positive\n",
       "2  x  x  x  x  o  o  o  b  b  positive\n",
       "3  x  x  x  x  o  o  b  o  b  positive\n",
       "4  x  x  x  x  o  o  b  b  o  positive"
      ]
     },
     "execution_count": 2,
     "metadata": {},
     "output_type": "execute_result"
    }
   ],
   "source": [
    "df = pd.read_csv('tictactoedataset.csv')\n",
    "df.head()"
   ]
  },
  {
   "cell_type": "markdown",
   "metadata": {},
   "source": [
    "The dataset is filled with labels for each position, indicating whether the position is filled by \"x\", \"o\" or if it's blank (\"b\")\n",
    "We will try to predict the class, which may be \"positive\", indicating \"x\" has won, or negative.\n",
    "</br></br>\n",
    "\n",
    "The Gradient Boosting Algorithm we are going to implement is not capable of understanding letters, so we will run the data set through a one hot encoding proccess. Each X column will be split in 3, one that will be filled if the positon was filled with \"x\", one for \"o\" and one for \"b\".\n",
    "\n",
    "So if tl (top left) = \"o\", the encoded dataset will have tl_x = 0, tl_o = 1, tl_b = 0\n"
   ]
  },
  {
   "cell_type": "code",
   "execution_count": 3,
   "metadata": {},
   "outputs": [
    {
     "data": {
      "text/html": [
       "<div>\n",
       "<style scoped>\n",
       "    .dataframe tbody tr th:only-of-type {\n",
       "        vertical-align: middle;\n",
       "    }\n",
       "\n",
       "    .dataframe tbody tr th {\n",
       "        vertical-align: top;\n",
       "    }\n",
       "\n",
       "    .dataframe thead th {\n",
       "        text-align: right;\n",
       "    }\n",
       "</style>\n",
       "<table border=\"1\" class=\"dataframe\">\n",
       "  <thead>\n",
       "    <tr style=\"text-align: right;\">\n",
       "      <th></th>\n",
       "      <th>tl_x</th>\n",
       "      <th>tl_b</th>\n",
       "      <th>tl_o</th>\n",
       "      <th>tm_x</th>\n",
       "      <th>tm_b</th>\n",
       "      <th>tm_o</th>\n",
       "      <th>tr_x</th>\n",
       "      <th>tr_b</th>\n",
       "      <th>tr_o</th>\n",
       "      <th>ml_x</th>\n",
       "      <th>...</th>\n",
       "      <th>bl_x</th>\n",
       "      <th>bl_b</th>\n",
       "      <th>bl_o</th>\n",
       "      <th>bm_x</th>\n",
       "      <th>bm_b</th>\n",
       "      <th>bm_o</th>\n",
       "      <th>br_x</th>\n",
       "      <th>br_b</th>\n",
       "      <th>br_o</th>\n",
       "      <th>class</th>\n",
       "    </tr>\n",
       "  </thead>\n",
       "  <tbody>\n",
       "    <tr>\n",
       "      <th>0</th>\n",
       "      <td>1.0</td>\n",
       "      <td>0.0</td>\n",
       "      <td>0.0</td>\n",
       "      <td>1.0</td>\n",
       "      <td>0.0</td>\n",
       "      <td>0.0</td>\n",
       "      <td>1.0</td>\n",
       "      <td>0.0</td>\n",
       "      <td>0.0</td>\n",
       "      <td>1.0</td>\n",
       "      <td>...</td>\n",
       "      <td>0.0</td>\n",
       "      <td>0.0</td>\n",
       "      <td>1.0</td>\n",
       "      <td>1.0</td>\n",
       "      <td>0.0</td>\n",
       "      <td>0.0</td>\n",
       "      <td>0.0</td>\n",
       "      <td>0.0</td>\n",
       "      <td>1.0</td>\n",
       "      <td>1.0</td>\n",
       "    </tr>\n",
       "    <tr>\n",
       "      <th>1</th>\n",
       "      <td>1.0</td>\n",
       "      <td>0.0</td>\n",
       "      <td>0.0</td>\n",
       "      <td>1.0</td>\n",
       "      <td>0.0</td>\n",
       "      <td>0.0</td>\n",
       "      <td>1.0</td>\n",
       "      <td>0.0</td>\n",
       "      <td>0.0</td>\n",
       "      <td>1.0</td>\n",
       "      <td>...</td>\n",
       "      <td>0.0</td>\n",
       "      <td>0.0</td>\n",
       "      <td>1.0</td>\n",
       "      <td>0.0</td>\n",
       "      <td>0.0</td>\n",
       "      <td>1.0</td>\n",
       "      <td>1.0</td>\n",
       "      <td>0.0</td>\n",
       "      <td>0.0</td>\n",
       "      <td>1.0</td>\n",
       "    </tr>\n",
       "    <tr>\n",
       "      <th>2</th>\n",
       "      <td>1.0</td>\n",
       "      <td>0.0</td>\n",
       "      <td>0.0</td>\n",
       "      <td>1.0</td>\n",
       "      <td>0.0</td>\n",
       "      <td>0.0</td>\n",
       "      <td>1.0</td>\n",
       "      <td>0.0</td>\n",
       "      <td>0.0</td>\n",
       "      <td>1.0</td>\n",
       "      <td>...</td>\n",
       "      <td>0.0</td>\n",
       "      <td>0.0</td>\n",
       "      <td>1.0</td>\n",
       "      <td>0.0</td>\n",
       "      <td>1.0</td>\n",
       "      <td>0.0</td>\n",
       "      <td>0.0</td>\n",
       "      <td>1.0</td>\n",
       "      <td>0.0</td>\n",
       "      <td>1.0</td>\n",
       "    </tr>\n",
       "    <tr>\n",
       "      <th>3</th>\n",
       "      <td>1.0</td>\n",
       "      <td>0.0</td>\n",
       "      <td>0.0</td>\n",
       "      <td>1.0</td>\n",
       "      <td>0.0</td>\n",
       "      <td>0.0</td>\n",
       "      <td>1.0</td>\n",
       "      <td>0.0</td>\n",
       "      <td>0.0</td>\n",
       "      <td>1.0</td>\n",
       "      <td>...</td>\n",
       "      <td>0.0</td>\n",
       "      <td>1.0</td>\n",
       "      <td>0.0</td>\n",
       "      <td>0.0</td>\n",
       "      <td>0.0</td>\n",
       "      <td>1.0</td>\n",
       "      <td>0.0</td>\n",
       "      <td>1.0</td>\n",
       "      <td>0.0</td>\n",
       "      <td>1.0</td>\n",
       "    </tr>\n",
       "    <tr>\n",
       "      <th>4</th>\n",
       "      <td>1.0</td>\n",
       "      <td>0.0</td>\n",
       "      <td>0.0</td>\n",
       "      <td>1.0</td>\n",
       "      <td>0.0</td>\n",
       "      <td>0.0</td>\n",
       "      <td>1.0</td>\n",
       "      <td>0.0</td>\n",
       "      <td>0.0</td>\n",
       "      <td>1.0</td>\n",
       "      <td>...</td>\n",
       "      <td>0.0</td>\n",
       "      <td>1.0</td>\n",
       "      <td>0.0</td>\n",
       "      <td>0.0</td>\n",
       "      <td>1.0</td>\n",
       "      <td>0.0</td>\n",
       "      <td>0.0</td>\n",
       "      <td>0.0</td>\n",
       "      <td>1.0</td>\n",
       "      <td>1.0</td>\n",
       "    </tr>\n",
       "  </tbody>\n",
       "</table>\n",
       "<p>5 rows × 28 columns</p>\n",
       "</div>"
      ],
      "text/plain": [
       "   tl_x  tl_b  tl_o  tm_x  tm_b  tm_o  tr_x  tr_b  tr_o  ml_x  ...  bl_x  \\\n",
       "0   1.0   0.0   0.0   1.0   0.0   0.0   1.0   0.0   0.0   1.0  ...   0.0   \n",
       "1   1.0   0.0   0.0   1.0   0.0   0.0   1.0   0.0   0.0   1.0  ...   0.0   \n",
       "2   1.0   0.0   0.0   1.0   0.0   0.0   1.0   0.0   0.0   1.0  ...   0.0   \n",
       "3   1.0   0.0   0.0   1.0   0.0   0.0   1.0   0.0   0.0   1.0  ...   0.0   \n",
       "4   1.0   0.0   0.0   1.0   0.0   0.0   1.0   0.0   0.0   1.0  ...   0.0   \n",
       "\n",
       "   bl_b  bl_o  bm_x  bm_b  bm_o  br_x  br_b  br_o  class  \n",
       "0   0.0   1.0   1.0   0.0   0.0   0.0   0.0   1.0    1.0  \n",
       "1   0.0   1.0   0.0   0.0   1.0   1.0   0.0   0.0    1.0  \n",
       "2   0.0   1.0   0.0   1.0   0.0   0.0   1.0   0.0    1.0  \n",
       "3   1.0   0.0   0.0   0.0   1.0   0.0   1.0   0.0    1.0  \n",
       "4   1.0   0.0   0.0   1.0   0.0   0.0   0.0   1.0    1.0  \n",
       "\n",
       "[5 rows x 28 columns]"
      ]
     },
     "execution_count": 3,
     "metadata": {},
     "output_type": "execute_result"
    }
   ],
   "source": [
    "\n",
    "\n",
    "def one_hot(df):\n",
    "    # One hot encode the categorical values\n",
    "    new_columns = []\n",
    "    for c in df.columns:\n",
    "        if c == 'class': \n",
    "            new_columns.append(c)\n",
    "            continue\n",
    "        new_columns.append(f'{c}_x')\n",
    "        new_columns.append(f'{c}_b')\n",
    "        new_columns.append(f'{c}_o')\n",
    "\n",
    "    new_data = {}\n",
    "    for c in new_columns:\n",
    "        new_data[c] = []\n",
    "\n",
    "    new_df = pd.DataFrame(new_data)\n",
    "    columns_count = len(new_columns)\n",
    "\n",
    "    for v in df.values:\n",
    "        new_row = [0] * columns_count\n",
    "        for i in range(len(v)):\n",
    "            val = v[i]\n",
    "            if i == len(v) - 1:\n",
    "                new_row[columns_count-1] = 1 if val == 'positive' else 0\n",
    "                continue\n",
    "\n",
    "            pos = -1\n",
    "            if val == 'x':\n",
    "                pos = 3*i + 0\n",
    "            elif val == 'b':\n",
    "                pos = 3*i + 1\n",
    "            elif val == 'o':\n",
    "                pos = 3*i + 2\n",
    "            new_row[pos] = 1\n",
    "\n",
    "        series = pd.Series(new_row, index = new_df.columns)\n",
    "        new_df = new_df.append(series, ignore_index=True)\n",
    "    return new_df\n",
    "\n",
    "\n",
    "df = one_hot(df)\n",
    "df.head()"
   ]
  },
  {
   "cell_type": "markdown",
   "metadata": {},
   "source": [
    "## MyGradientBoostingClassifier\n",
    "This is an implementation of the Gradient Boosting Classifier Algorithm"
   ]
  },
  {
   "cell_type": "code",
   "execution_count": 4,
   "metadata": {},
   "outputs": [],
   "source": [
    "class MyGradientBoostingClassifier:\n",
    "\n",
    "    def __init__(self, learning_rate=0.2, max_depth=10, n_estimators=100, min_samples_leaf=5):\n",
    "        self.learning_rate = learning_rate\n",
    "        self.max_depth = max_depth\n",
    "        self.n_estimators = n_estimators\n",
    "        self.min_samples_leaf = min_samples_leaf\n",
    "\n",
    "    def p_to_log_odds(self, p):\n",
    "        return math.log2(p/(1-p))\n",
    "\n",
    "    def log_odds_to_p(self, log_odds):\n",
    "        return math.pow(math.e, log_odds) / (1 + math.pow(math.e, log_odds))\n",
    "            \n",
    "            \n",
    "    def fit(self, df_x, df_y):\n",
    "        self.estimators = []\n",
    "        df_gb = df_x\n",
    "        \n",
    "        \n",
    "        # Step 1: Initialize the model with a constant value (current probability that a sample is true)\n",
    "        initial_prob = len(df_y[df_y == 1])/len(df_y)\n",
    "        predict_proba = [initial_prob] * len(df_gb)\n",
    "        log_odds = [self.p_to_log_odds(initial_prob)] * len(df_gb)\n",
    "        residual = []\n",
    "        \n",
    "        self.initial_log_odds = log_odds[0]\n",
    "\n",
    "\n",
    "        # Step 2: Repeat n_estimators times\n",
    "        for _ in range(self.n_estimators):\n",
    "            # Step 2.1: Compute the Pseudo Residuals for each sample, r(i,m), where i is the sample number and m is the tree that we’re building.\n",
    "            # Pseudo residual = Observed - p\n",
    "            residual = (df_y - predict_proba).values\n",
    "            tree = DecisionTreeRegressor(\n",
    "                splitter=\"best\",\n",
    "                max_depth=self.max_depth,\n",
    "                min_samples_leaf=self.min_samples_leaf,\n",
    "                min_samples_split=2,\n",
    "                min_weight_fraction_leaf= 0.0,\n",
    "                min_impurity_decrease=0.0,\n",
    "            )\n",
    "            \n",
    "            tree.fit(df_gb, residual)\n",
    "            self.estimators.append(tree)\n",
    "\n",
    "            gamma = tree.predict(df_gb)\n",
    "            log_odds += gamma * self.learning_rate\n",
    "\n",
    "            for i in range(len(df_gb)):                \n",
    "                predict_proba[i] = self.log_odds_to_p(log_odds[i])\n",
    "\n",
    "        hit = 0\n",
    "        for i in range(0, len(df_gb)):\n",
    "            if predict_proba[i] >= 0.5 and df_y.iloc[i] == 1:\n",
    "                hit += 1\n",
    "            elif predict_proba[i] < 0.5 and df_y.iloc[i] == 0:\n",
    "                hit += 1\n",
    "\n",
    "    def predict_proba(self, X, per_iter=False):\n",
    "\n",
    "        if per_iter:\n",
    "            yy = []\n",
    "            y = []\n",
    "\n",
    "            odds =  [self.initial_log_odds] * len(X)\n",
    "            for tree in self.estimators:\n",
    "                gamma = tree.predict(X)\n",
    "                odds += self.learning_rate * gamma\n",
    "            \n",
    "                for i in range(len(X)):\n",
    "                    y.append(self.log_odds_to_p(odds[i]))\n",
    "                yy.append(y)\n",
    "                y = []\n",
    "\n",
    "            return yy\n",
    "            \n",
    "        else:\n",
    "            y = []\n",
    "\n",
    "            odds =  [self.initial_log_odds] * len(X)\n",
    "            for tree in self.estimators:\n",
    "                gamma = tree.predict(X)\n",
    "                odds += self.learning_rate * gamma\n",
    "            \n",
    "            for i in range(len(X)):\n",
    "                y.append(self.log_odds_to_p(odds[i]))\n",
    "\n",
    "            return y\n",
    "\n",
    "    def score_per_iter(self, X, y):\n",
    "        proba = self.predict_proba(X, per_iter=True)\n",
    "        scores = []\n",
    "        for i in range(len(proba)):\n",
    "            scores.append(self.score(X, y, predicted_proba=proba[i]))\n",
    "        return scores\n",
    "\n",
    "    def score(self, X, y, predicted_proba=None):\n",
    "        predicted_proba = self.predict_proba(X) if predicted_proba == None else predicted_proba\n",
    "\n",
    "        hit = 0\n",
    "        for i in range(len(predicted_proba)):\n",
    "            res = 1 if predicted_proba[i] >= 0.5 else 0\n",
    "            if y.iloc[i] == res:\n",
    "                hit += 1\n",
    "        return hit/len(predicted_proba)\n"
   ]
  },
  {
   "cell_type": "markdown",
   "metadata": {},
   "source": [
    "### Simple test with train test split of 85/15\n",
    "\n",
    "Accuracy ranges from about 96% to 100%"
   ]
  },
  {
   "cell_type": "code",
   "execution_count": 5,
   "metadata": {},
   "outputs": [
    {
     "name": "stdout",
     "output_type": "stream",
     "text": [
      "Test accuracy 0.9791666666666666\n"
     ]
    }
   ],
   "source": [
    "X = df.loc[:, df.columns != 'class']\n",
    "y = df['class']\n",
    "\n",
    "X_train, X_test, y_train, y_test = train_test_split(X, y, test_size=0.15, shuffle=True)\n",
    "\n",
    "clf = MyGradientBoostingClassifier(n_estimators=400, learning_rate=0.1, max_depth=15, min_samples_leaf=10)\n",
    "clf.fit(df_x=X_train, df_y=y_train)\n",
    "    \n",
    "print(f'Test accuracy {clf.score(X_test, y_test)}')"
   ]
  },
  {
   "cell_type": "markdown",
   "metadata": {},
   "source": [
    "### Cross Validation (5 folds)\n",
    "\n"
   ]
  },
  {
   "cell_type": "code",
   "execution_count": 6,
   "metadata": {},
   "outputs": [
    {
     "name": "stdout",
     "output_type": "stream",
     "text": [
      "Scores: [0.9895288  0.97905759 0.9947644  0.98429319 0.98429319]\n",
      "Average Score: 0.9863874345549737\n"
     ]
    }
   ],
   "source": [
    "def cross_val_score(estimator=clf, X=X, y=y, cv=5):\n",
    "    X, y = shuffle(X, y)\n",
    "\n",
    "    total_size = len(X)\n",
    "    fold_size = int(total_size / cv)\n",
    "    scores = []\n",
    "    for i in range(cv):\n",
    "        start = i * fold_size\n",
    "        end = (i + 1) * fold_size\n",
    "        xTest = X[start:end]\n",
    "        yTest= y[start:end]\n",
    "        xTrain = pd.concat([X[:start], X[end:]])\n",
    "        yTrain = pd.concat([y[:start], y[end:]])\n",
    "\n",
    "        estimator.fit(xTrain, yTrain)\n",
    "        scores.append(estimator.score(xTest, yTest))\n",
    "    return np.array(scores)\n",
    "    \n",
    "clf = MyGradientBoostingClassifier(n_estimators=400, learning_rate=0.6, max_depth=15, min_samples_leaf=10)\n",
    "scores = cross_val_score(estimator=clf, X=X, y=y, cv=5)\n",
    "print(f'Scores: {scores}')\n",
    "print(f'Average Score: {scores.mean()}')"
   ]
  },
  {
   "cell_type": "markdown",
   "metadata": {},
   "source": [
    "### Iterations Experiment\n",
    "Usually, a total of ~400 iterations is enough to maximize the results\n",
    "\n",
    "The graph generated above shows the evolution of the accuracy with each iteration"
   ]
  },
  {
   "cell_type": "code",
   "execution_count": 7,
   "metadata": {},
   "outputs": [
    {
     "name": "stdout",
     "output_type": "stream",
     "text": [
      "Last Score 1.0\n"
     ]
    },
    {
     "data": {
      "image/png": "[encoded data removed]",
      "text/plain": [
       "<Figure size 600x400 with 1 Axes>"
      ]
     },
     "metadata": {
      "needs_background": "light"
     },
     "output_type": "display_data"
    }
   ],
   "source": [
    "X_train, X_test, y_train, y_test = train_test_split(X, y, test_size=0.15, shuffle=True)\n",
    "\n",
    "clf = MyGradientBoostingClassifier(n_estimators=1000, learning_rate=0.6, max_depth=15, min_samples_leaf=10)\n",
    "clf.fit(df_x=X_train, df_y=y_train)\n",
    "    \n",
    "scores = clf.score_per_iter(X_test, y_test)\n",
    "print(f'Last Score {scores[-1]}')\n",
    "\n",
    "plt.figure(dpi=100)\n",
    "cols = np.array(list(range(len(scores)))) + 1\n",
    "plt.plot(cols, scores)\n",
    "plt.title('Score per Iteration')\n",
    "plt.ylabel('')\n",
    "plt.xlabel('Iteration')\n",
    "plt.legend(['Accuracy'], loc='lower right')\n",
    "plt.show()\n"
   ]
  },
  {
   "cell_type": "markdown",
   "metadata": {},
   "source": []
  },
  {
   "cell_type": "markdown",
   "metadata": {},
   "source": [
    "### Max Depth Experiment\n",
    "\n",
    "Small max depth numbers (approximately < 4), are empirically considerably worse than bigger numbers. Usually, big numbers could cause overfitting, but the boosting process prevent that.\n",
    "The experiments were run with a min_samples_leaf of 10. This causes the max depth to not cause significant difference for max depth ~= 9+, since the branches of the tree can't split past a number of 10 elements per leaf.\n",
    "</br></br>You can notice this behavior on the graph below. Optimal max_depth seems to be > 10. We will use 15."
   ]
  },
  {
   "cell_type": "code",
   "execution_count": 8,
   "metadata": {},
   "outputs": [
    {
     "data": {
      "image/png": "[encoded data removed]",
      "text/plain": [
       "<Figure size 600x400 with 1 Axes>"
      ]
     },
     "metadata": {
      "needs_background": "light"
     },
     "output_type": "display_data"
    },
    {
     "name": "stdout",
     "output_type": "stream",
     "text": [
      "[0.7638888888888888, 0.9791666666666666, 0.9861111111111112, 0.9861111111111112, 0.9861111111111112, 0.9861111111111112, 0.9861111111111112, 0.9861111111111112, 0.9861111111111112, 0.9861111111111112]\n"
     ]
    }
   ],
   "source": [
    "X_train, X_test, y_train, y_test = train_test_split(X, y, test_size=0.15, shuffle=True)\n",
    "\n",
    "depths = np.array(list(range(10)))*2 + 1\n",
    "scores = []\n",
    "for depth in depths:\n",
    "    clf = MyGradientBoostingClassifier(n_estimators=400, learning_rate=0.6, max_depth=depth, min_samples_leaf=10)\n",
    "    clf.fit(df_x=X_train, df_y=y_train)\n",
    "    scores.append(clf.score(X_test, y_test))\n",
    "\n",
    "plt.figure(dpi=100)\n",
    "plt.plot(depths, scores)\n",
    "plt.title('Score per Max Depth')\n",
    "plt.ylabel('')\n",
    "plt.xlabel('Max Depth')\n",
    "plt.legend(['Accuracy'], loc='lower right')\n",
    "plt.show()\n",
    "\n",
    "print(scores)\n",
    "\n"
   ]
  },
  {
   "cell_type": "markdown",
   "metadata": {},
   "source": [
    "### Minimum Samples per Leaf Experiment\n",
    "\n",
    "As you can by generating the graph below a few times, no consistent results were found for a specific optimal value for min_samples_leaf. A reasonable range seems to be [7-15], we will use 10."
   ]
  },
  {
   "cell_type": "code",
   "execution_count": 9,
   "metadata": {},
   "outputs": [
    {
     "data": {
      "image/png": "[encoded data removed]",
      "text/plain": [
       "<Figure size 600x400 with 1 Axes>"
      ]
     },
     "metadata": {
      "needs_background": "light"
     },
     "output_type": "display_data"
    },
    {
     "name": "stdout",
     "output_type": "stream",
     "text": [
      "[0.9305555555555556, 0.9722222222222222, 0.9861111111111112, 0.9861111111111112, 0.9861111111111112, 0.9861111111111112, 0.9861111111111112, 0.9861111111111112, 0.9861111111111112, 0.9930555555555556]\n"
     ]
    }
   ],
   "source": [
    "X_train, X_test, y_train, y_test = train_test_split(X, y, test_size=0.15, shuffle=True)\n",
    "\n",
    "samples = np.array(list(range(10)))*2 + 1\n",
    "scores = []\n",
    "for sample_number in samples:\n",
    "    clf = MyGradientBoostingClassifier(n_estimators=400, learning_rate=0.6, max_depth=15, min_samples_leaf=sample_number)\n",
    "    clf.fit(df_x=X_train, df_y=y_train)\n",
    "    scores.append(clf.score(X_test, y_test))\n",
    "\n",
    "plt.figure(dpi=100)\n",
    "plt.plot(samples, scores)\n",
    "plt.title('Score per Minimum Samples per Leaf')\n",
    "plt.ylabel('')\n",
    "plt.xlabel('Min Samples per Leaf')\n",
    "plt.legend(['Accuracy'], loc='lower right')\n",
    "plt.show()\n",
    "\n",
    "print(scores)\n",
    "\n"
   ]
  },
  {
   "cell_type": "markdown",
   "metadata": {},
   "source": [
    "### Learning Rate Experiment\n",
    "\n",
    "Different values of learning rate don't seem to significantly affect the accuracy. By running this experiment a few times, values between 0.3 and 1.0 seem to be close to equivalent."
   ]
  },
  {
   "cell_type": "code",
   "execution_count": 10,
   "metadata": {},
   "outputs": [
    {
     "data": {
      "image/png": "[encoded data removed]",
      "text/plain": [
       "<Figure size 600x400 with 1 Axes>"
      ]
     },
     "metadata": {
      "needs_background": "light"
     },
     "output_type": "display_data"
    },
    {
     "name": "stdout",
     "output_type": "stream",
     "text": [
      "[0.9861111111111112, 0.9930555555555556, 1.0, 1.0, 1.0, 1.0, 1.0, 1.0, 1.0, 1.0, 1.0, 0.9930555555555556, 1.0, 1.0, 1.0, 1.0, 1.0, 1.0, 1.0, 1.0, 1.0, 1.0, 1.0, 1.0, 1.0, 1.0, 1.0, 1.0, 1.0, 1.0]\n"
     ]
    }
   ],
   "source": [
    "X_train, X_test, y_train, y_test = train_test_split(X, y, test_size=0.15, shuffle=True)\n",
    "\n",
    "rates = (np.array(list(range(30))) + 1) / 20\n",
    "scores = []\n",
    "for rate in rates:\n",
    "    clf = MyGradientBoostingClassifier(n_estimators=400, learning_rate=rate, max_depth=15, min_samples_leaf=10)\n",
    "    clf.fit(df_x=X_train, df_y=y_train)\n",
    "    scores.append(clf.score(X_test, y_test))\n",
    "\n",
    "plt.figure(dpi=100)\n",
    "plt.plot(rates, scores)\n",
    "plt.title('Score per Learning Rate')\n",
    "plt.ylabel('')\n",
    "plt.xlabel('Learning Rate')\n",
    "plt.legend(['Accuracy'], loc='lower right')\n",
    "plt.show()\n",
    "\n",
    "print(scores)\n",
    "\n"
   ]
  },
  {
   "cell_type": "code",
   "execution_count": null,
   "metadata": {},
   "outputs": [],
   "source": []
  }
 ],
 "metadata": {
  "kernelspec": {
   "display_name": "Python 3.8.8 ('base')",
   "language": "python",
   "name": "python3"
  },
  "language_info": {
   "codemirror_mode": {
    "name": "ipython",
    "version": 3
   },
   "file_extension": ".py",
   "mimetype": "text/x-python",
   "name": "python",
   "nbconvert_exporter": "python",
   "pygments_lexer": "ipython3",
   "version": "3.8.8"
  },
  "orig_nbformat": 4,
  "vscode": {
   "interpreter": {
    "hash": "22f95e311c68f3ef24dec89002d510ee6526f7630a634e3dd287dbabe6aa6075"
   }
  }
 },
 "nbformat": 4,
 "nbformat_minor": 2
}
